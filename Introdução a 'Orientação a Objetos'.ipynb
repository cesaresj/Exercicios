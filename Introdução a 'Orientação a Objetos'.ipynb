{
 "cells": [
  {
   "cell_type": "code",
   "execution_count": 5,
   "id": "c4affd00",
   "metadata": {},
   "outputs": [],
   "source": [
    "# class carro(): \n",
    "#    def __init__(self):\n",
    "#       print(\"Olare\")\n"
   ]
  },
  {
   "cell_type": "markdown",
   "id": "739cdd98",
   "metadata": {},
   "source": [
    "### 8.3 Metodos e atributos "
   ]
  },
  {
   "cell_type": "markdown",
   "id": "2f75c311",
   "metadata": {},
   "source": [
    "**8.3.1 Atribuitos**"
   ]
  },
  {
   "cell_type": "code",
   "execution_count": 6,
   "id": "d6dfbafe",
   "metadata": {},
   "outputs": [],
   "source": [
    "class Carro():\n",
    "    def __init__(self, modelo, marca, ano, cor):\n",
    "        self.modelo = modelo\n",
    "        self.marca = marca\n",
    "        self.anodefabricacao = ano\n",
    "        self.corDeProducao = cor"
   ]
  },
  {
   "cell_type": "markdown",
   "id": "6d556bfb",
   "metadata": {},
   "source": [
    "**8.3.2 Metodos**"
   ]
  },
  {
   "cell_type": "code",
   "execution_count": 1,
   "id": "19e33a7d",
   "metadata": {},
   "outputs": [],
   "source": [
    "class Carro():\n",
    "    def __init__(self, modelo, marca, ano, cor, statusFarol = 'desligado'):\n",
    "#atributos\n",
    "        self.modelo = modelo\n",
    "        self.marca = marca\n",
    "        self.anodefabricacao = ano\n",
    "        self.corDeProducao = cor\n",
    "#metodos\n",
    "        self.statusFarol = statusFarol\n",
    "    \n",
    "    def ligarFarol(self):\n",
    "        if(self.statusFarol == 'desligado'):\n",
    "            self.statusFarol = 'ligado'\n",
    "            print(\"Farol ligado\")\n",
    "        else:\n",
    "            print(\"O farol ja está ligado\")\n",
    "            \n",
    "    def DesligarFarol(self):\n",
    "        if(self.statusFarol == 'ligado'):\n",
    "            self.statusFarol = 'desligado'\n",
    "            print(\"Farol desligado\")"
   ]
  },
  {
   "cell_type": "code",
   "execution_count": 1,
   "id": "71dc5214",
   "metadata": {},
   "outputs": [],
   "source": [
    "class Carro():\n",
    "    def __init__(self, modelo, marca, ano, cor, statusFarol = 'desligado'):\n",
    "#atributos\n",
    "        self.modelo = modelo\n",
    "        self.marca = marca\n",
    "        self.anodefabricacao = ano\n",
    "        self.corDeProducao = cor\n",
    "#metodos\n",
    "        self.statusFarol = statusFarol\n",
    "    \n",
    "        self.velocimetro = 0\n",
    "    \n",
    "    def ligarFarol(self):\n",
    "        if(self.statusFarol == 'desligado'):\n",
    "            self.statusFarol = 'ligado'\n",
    "            print(\"Farol ligado\")\n",
    "        else:\n",
    "            print(\"O farol ja está ligado\")\n",
    "            \n",
    "    def DesligarFarol(self):\n",
    "        if(self.statusFarol == 'ligado'):\n",
    "            self.statusFarol = 'desligado'\n",
    "            print(\"Farol desligado\")\n",
    "            \n",
    "    def Acelerar(self,AcresVelo):\n",
    "        self.velocimetro = self.velocimetro + AcresVelo\n",
    "    \n",
    "    def Freiar(self,descresVelo):\n",
    "        if (self.velocimetro > descresVelo):\n",
    "            self.velocimetro = self.velocimetro - descresVelo\n",
    "        else:\n",
    "            self.velocimetro = 0"
   ]
  },
  {
   "cell_type": "markdown",
   "id": "1a654614",
   "metadata": {},
   "source": [
    "### 8.4 Objetos"
   ]
  },
  {
   "cell_type": "markdown",
   "id": "b2f41ae3",
   "metadata": {},
   "source": [
    "Quando falamos __objetos__ estamos lidando com uma instancia especifica de uma classe."
   ]
  },
  {
   "cell_type": "code",
   "execution_count": 5,
   "id": "0efe03c7",
   "metadata": {},
   "outputs": [
    {
     "name": "stdout",
     "output_type": "stream",
     "text": [
      "Marca do carro: Gol\n",
      "Modelo do carro: Gol\n",
      "Ano de fabricacao: 2015\n",
      "Cor de producao:Vermelho\n",
      "Marca do carro: Porsche\n",
      "Modelo do carro: LSKDÇLAK\n",
      "Ano de fabricacao: 2015\n",
      "Cor de producao:preto\n",
      "Marca do carro: Bugatti\n",
      "Modelo do carro: Veyron\n",
      "Ano de fabricacao: 2020\n",
      "Cor de producao:Preto\n"
     ]
    }
   ],
   "source": [
    "i = 0\n",
    "lista = []\n",
    "while i<3:\n",
    "    marca = input(\"Marca do carro: \")\n",
    "    modelo = input(\"Modelo do carro: \")\n",
    "    ano = int(input(\"Ano de fabricacao: \"))\n",
    "    cor = input(\"Cor de producao:\")\n",
    "    \n",
    "    carro = Carro(marca,modelo,ano,cor)\n",
    "    \n",
    "    lista.append(carro)\n",
    "    i=i+1"
   ]
  },
  {
   "cell_type": "code",
   "execution_count": 7,
   "id": "cddbca6b",
   "metadata": {},
   "outputs": [
    {
     "data": {
      "text/plain": [
       "'Gol'"
      ]
     },
     "execution_count": 7,
     "metadata": {},
     "output_type": "execute_result"
    }
   ],
   "source": [
    "lista[0].marca"
   ]
  },
  {
   "cell_type": "code",
   "execution_count": 8,
   "id": "a4e23e8b",
   "metadata": {},
   "outputs": [
    {
     "name": "stdout",
     "output_type": "stream",
     "text": [
      "Farol ligado\n"
     ]
    }
   ],
   "source": [
    "lista[1].ligarFarol()"
   ]
  },
  {
   "cell_type": "code",
   "execution_count": 12,
   "id": "823bfc28",
   "metadata": {},
   "outputs": [
    {
     "data": {
      "text/plain": [
       "750"
      ]
     },
     "execution_count": 12,
     "metadata": {},
     "output_type": "execute_result"
    }
   ],
   "source": [
    "lista[2].Acelerar(250)\n",
    "lista[2].velocimetro"
   ]
  },
  {
   "cell_type": "markdown",
   "id": "0ab54afc",
   "metadata": {},
   "source": [
    "### 8.5 Encapsulamento"
   ]
  },
  {
   "cell_type": "code",
   "execution_count": null,
   "id": "93b1e5f6",
   "metadata": {},
   "outputs": [],
   "source": []
  },
  {
   "cell_type": "code",
   "execution_count": 24,
   "id": "8ee3ccb8",
   "metadata": {},
   "outputs": [],
   "source": [
    "class Carro():\n",
    "    def __init__(self, modelo, marca, ano, cor, statusFarol = False):\n",
    "#atributos\n",
    "        self.modelo = modelo\n",
    "        self.marca = marca\n",
    "        self.anodefabricacao = ano\n",
    "        self.corDeProducao = cor\n",
    "#metodos\n",
    "        self.statusFarol = statusFarol\n",
    "    \n",
    "        self.velocimetro = 0\n",
    "        \n",
    "        self.__status__ = False \n",
    "    \n",
    "    def ligarFarol(self):\n",
    "        if(self.statusFarol == 'desligado'):\n",
    "            self.statusFarol = 'ligado'\n",
    "            print(\"Farol ligado\")\n",
    "        else:\n",
    "            print(\"O farol ja está ligado\")\n",
    "            \n",
    "    def DesligarFarol(self):\n",
    "        if(self.statusFarol == 'ligado'):\n",
    "            self.statusFarol = 'desligado'\n",
    "            print(\"Farol desligado\")\n",
    "            \n",
    "    def Acelerar(self,AcresVelo):\n",
    "        self.velocimetro = self.velocimetro + AcresVelo\n",
    "    \n",
    "    def Freiar(self,descresVelo):\n",
    "        if (self.velocimetro > descresVelo):\n",
    "            self.velocimetro = self.velocimetro - descresVelo\n",
    "        else:\n",
    "            self.velocimetro = 0\n",
    "            \n",
    "    def getstatus(self): #Pegar o valor da variavel __status__ e retornar para função\n",
    "        return self.__status__\n",
    "    \n",
    "      \n",
    "    \n",
    "    def setstatus(self, novostatus, chave): #Verificação da chave\n",
    "        \n",
    "        chave_certa = self.__verifica_chave(chave)\n",
    "        \n",
    "        if chave == 123456:\n",
    "            self.__status__ = novostatus\n",
    "            #print(\"Carro ligado\")\n",
    "        else:\n",
    "            print(\"O status nao pode ser alterado\")\n",
    "    \n",
    "    "
   ]
  },
  {
   "cell_type": "code",
   "execution_count": 9,
   "id": "4e725f7b",
   "metadata": {},
   "outputs": [],
   "source": [
    "Wrangler = Carro(\"Jeep\",'Wrangler', 2018,'Preto')\n",
    "Fox = Carro(\"Volks\",'Fox',2010,'Vermelho')"
   ]
  },
  {
   "cell_type": "code",
   "execution_count": 11,
   "id": "0d87889b",
   "metadata": {},
   "outputs": [
    {
     "data": {
      "text/plain": [
       "0"
      ]
     },
     "execution_count": 11,
     "metadata": {},
     "output_type": "execute_result"
    }
   ],
   "source": [
    "Fox.velocimetro"
   ]
  },
  {
   "cell_type": "code",
   "execution_count": 13,
   "id": "ac45f915",
   "metadata": {},
   "outputs": [
    {
     "data": {
      "text/plain": [
       "False"
      ]
     },
     "execution_count": 13,
     "metadata": {},
     "output_type": "execute_result"
    }
   ],
   "source": [
    "Fox.getstatus()"
   ]
  },
  {
   "cell_type": "code",
   "execution_count": 19,
   "id": "b4284492",
   "metadata": {},
   "outputs": [],
   "source": [
    "Fox.setstatus(True,123456)"
   ]
  },
  {
   "cell_type": "code",
   "execution_count": 20,
   "id": "cd7bbbef",
   "metadata": {},
   "outputs": [
    {
     "data": {
      "text/plain": [
       "True"
      ]
     },
     "execution_count": 20,
     "metadata": {},
     "output_type": "execute_result"
    }
   ],
   "source": [
    "Fox.getstatus()"
   ]
  },
  {
   "cell_type": "code",
   "execution_count": 21,
   "id": "81ab6ca3",
   "metadata": {},
   "outputs": [],
   "source": [
    "def __verifica_chave(self, chave):\n",
    "    if chave == 123456:\n",
    "        return True\n",
    "    else:\n",
    "        return False"
   ]
  },
  {
   "cell_type": "code",
   "execution_count": 25,
   "id": "9a429fa7",
   "metadata": {},
   "outputs": [
    {
     "name": "stdout",
     "output_type": "stream",
     "text": [
      "Fulano 2500.0\n"
     ]
    }
   ],
   "source": [
    "class Empregado():\n",
    "    def __init__ (self, nome, sexo, salario):\n",
    "        self.nome = nome\n",
    "        self.sexo = sexo\n",
    "        self.salario = salario\n",
    "\n",
    "Fulano = Empregado(\"Fulano de Tal\", \"m\", 2500.00)\n",
    "print(Fulano.nome[0:6], Fulano.salario)\n"
   ]
  },
  {
   "cell_type": "code",
   "execution_count": null,
   "id": "1d7ebe00",
   "metadata": {},
   "outputs": [],
   "source": []
  }
 ],
 "metadata": {
  "kernelspec": {
   "display_name": "Python 3",
   "language": "python",
   "name": "python3"
  },
  "language_info": {
   "codemirror_mode": {
    "name": "ipython",
    "version": 3
   },
   "file_extension": ".py",
   "mimetype": "text/x-python",
   "name": "python",
   "nbconvert_exporter": "python",
   "pygments_lexer": "ipython3",
   "version": "3.8.8"
  }
 },
 "nbformat": 4,
 "nbformat_minor": 5
}
